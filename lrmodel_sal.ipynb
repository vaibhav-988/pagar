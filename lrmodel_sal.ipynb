{
 "cells": [
  {
   "cell_type": "code",
   "execution_count": 1,
   "id": "a1a09272",
   "metadata": {},
   "outputs": [],
   "source": [
    "import pandas as pd"
   ]
  },
  {
   "cell_type": "code",
   "execution_count": 2,
   "id": "fc98277c",
   "metadata": {},
   "outputs": [],
   "source": [
    "import numpy as np"
   ]
  },
  {
   "cell_type": "code",
   "execution_count": 3,
   "id": "bc2d4c66",
   "metadata": {},
   "outputs": [],
   "source": [
    "from sklearn.linear_model import LinearRegression"
   ]
  },
  {
   "cell_type": "code",
   "execution_count": 4,
   "id": "7685f632",
   "metadata": {},
   "outputs": [],
   "source": [
    "from sklearn.model_selection import train_test_split"
   ]
  },
  {
   "cell_type": "code",
   "execution_count": 5,
   "id": "13bb1a81",
   "metadata": {},
   "outputs": [],
   "source": [
    "from sklearn.metrics import accuracy_score"
   ]
  },
  {
   "cell_type": "code",
   "execution_count": 6,
   "id": "be1eb538",
   "metadata": {},
   "outputs": [],
   "source": [
    "df=pd.read_excel('Emp_Records.xlsx')"
   ]
  },
  {
   "cell_type": "code",
   "execution_count": 7,
   "id": "ac21fe57",
   "metadata": {},
   "outputs": [
    {
     "data": {
      "text/html": [
       "<div>\n",
       "<style scoped>\n",
       "    .dataframe tbody tr th:only-of-type {\n",
       "        vertical-align: middle;\n",
       "    }\n",
       "\n",
       "    .dataframe tbody tr th {\n",
       "        vertical-align: top;\n",
       "    }\n",
       "\n",
       "    .dataframe thead th {\n",
       "        text-align: right;\n",
       "    }\n",
       "</style>\n",
       "<table border=\"1\" class=\"dataframe\">\n",
       "  <thead>\n",
       "    <tr style=\"text-align: right;\">\n",
       "      <th></th>\n",
       "      <th>Age</th>\n",
       "      <th>Weight</th>\n",
       "      <th>Experience</th>\n",
       "      <th>Salary</th>\n",
       "    </tr>\n",
       "  </thead>\n",
       "  <tbody>\n",
       "    <tr>\n",
       "      <th>0</th>\n",
       "      <td>36.36</td>\n",
       "      <td>60</td>\n",
       "      <td>13.68</td>\n",
       "      <td>168251</td>\n",
       "    </tr>\n",
       "    <tr>\n",
       "      <th>1</th>\n",
       "      <td>47.02</td>\n",
       "      <td>60</td>\n",
       "      <td>9.01</td>\n",
       "      <td>51063</td>\n",
       "    </tr>\n",
       "    <tr>\n",
       "      <th>2</th>\n",
       "      <td>54.15</td>\n",
       "      <td>68</td>\n",
       "      <td>0.98</td>\n",
       "      <td>50155</td>\n",
       "    </tr>\n",
       "    <tr>\n",
       "      <th>3</th>\n",
       "      <td>39.67</td>\n",
       "      <td>51</td>\n",
       "      <td>18.30</td>\n",
       "      <td>180294</td>\n",
       "    </tr>\n",
       "    <tr>\n",
       "      <th>4</th>\n",
       "      <td>40.31</td>\n",
       "      <td>58</td>\n",
       "      <td>4.01</td>\n",
       "      <td>117642</td>\n",
       "    </tr>\n",
       "    <tr>\n",
       "      <th>...</th>\n",
       "      <td>...</td>\n",
       "      <td>...</td>\n",
       "      <td>...</td>\n",
       "      <td>...</td>\n",
       "    </tr>\n",
       "    <tr>\n",
       "      <th>95</th>\n",
       "      <td>22.82</td>\n",
       "      <td>89</td>\n",
       "      <td>1.05</td>\n",
       "      <td>129774</td>\n",
       "    </tr>\n",
       "    <tr>\n",
       "      <th>96</th>\n",
       "      <td>32.61</td>\n",
       "      <td>77</td>\n",
       "      <td>5.93</td>\n",
       "      <td>156194</td>\n",
       "    </tr>\n",
       "    <tr>\n",
       "      <th>97</th>\n",
       "      <td>52.66</td>\n",
       "      <td>60</td>\n",
       "      <td>28.53</td>\n",
       "      <td>95673</td>\n",
       "    </tr>\n",
       "    <tr>\n",
       "      <th>98</th>\n",
       "      <td>29.60</td>\n",
       "      <td>57</td>\n",
       "      <td>6.99</td>\n",
       "      <td>51015</td>\n",
       "    </tr>\n",
       "    <tr>\n",
       "      <th>99</th>\n",
       "      <td>38.38</td>\n",
       "      <td>55</td>\n",
       "      <td>2.26</td>\n",
       "      <td>93650</td>\n",
       "    </tr>\n",
       "  </tbody>\n",
       "</table>\n",
       "<p>100 rows × 4 columns</p>\n",
       "</div>"
      ],
      "text/plain": [
       "      Age  Weight  Experience  Salary\n",
       "0   36.36      60       13.68  168251\n",
       "1   47.02      60        9.01   51063\n",
       "2   54.15      68        0.98   50155\n",
       "3   39.67      51       18.30  180294\n",
       "4   40.31      58        4.01  117642\n",
       "..    ...     ...         ...     ...\n",
       "95  22.82      89        1.05  129774\n",
       "96  32.61      77        5.93  156194\n",
       "97  52.66      60       28.53   95673\n",
       "98  29.60      57        6.99   51015\n",
       "99  38.38      55        2.26   93650\n",
       "\n",
       "[100 rows x 4 columns]"
      ]
     },
     "execution_count": 7,
     "metadata": {},
     "output_type": "execute_result"
    }
   ],
   "source": [
    "df"
   ]
  },
  {
   "cell_type": "code",
   "execution_count": 8,
   "id": "362e516d",
   "metadata": {},
   "outputs": [],
   "source": [
    "x=df.drop('Salary',axis=1)"
   ]
  },
  {
   "cell_type": "code",
   "execution_count": 9,
   "id": "d0cb8bef",
   "metadata": {},
   "outputs": [],
   "source": [
    "y=df['Salary']"
   ]
  },
  {
   "cell_type": "code",
   "execution_count": 10,
   "id": "02b4868c",
   "metadata": {},
   "outputs": [],
   "source": [
    "linear=LinearRegression()"
   ]
  },
  {
   "cell_type": "code",
   "execution_count": 11,
   "id": "55d609b8",
   "metadata": {},
   "outputs": [
    {
     "data": {
      "text/plain": [
       "LinearRegression()"
      ]
     },
     "execution_count": 11,
     "metadata": {},
     "output_type": "execute_result"
    }
   ],
   "source": [
    "linear.fit(x,y)"
   ]
  },
  {
   "cell_type": "code",
   "execution_count": 12,
   "id": "3af92def",
   "metadata": {},
   "outputs": [],
   "source": [
    "import pickle"
   ]
  },
  {
   "cell_type": "code",
   "execution_count": 13,
   "id": "0c114560",
   "metadata": {},
   "outputs": [],
   "source": [
    "file=open('salmodel.pkl','wb')\n",
    "pickle.dump(linear,file)\n",
    "file.close()"
   ]
  },
  {
   "cell_type": "code",
   "execution_count": 14,
   "id": "5ee9b7d4",
   "metadata": {},
   "outputs": [
    {
     "data": {
      "text/plain": [
       "Index(['Age', 'Weight', 'Experience'], dtype='object')"
      ]
     },
     "execution_count": 14,
     "metadata": {},
     "output_type": "execute_result"
    }
   ],
   "source": [
    "col_list=x.columns\n",
    "col_list"
   ]
  },
  {
   "cell_type": "code",
   "execution_count": 15,
   "id": "ca165b39",
   "metadata": {},
   "outputs": [],
   "source": [
    "file1=open('column_list.pkl','wb')\n",
    "pickle.dump(col_list,file1)\n",
    "file1.close()"
   ]
  },
  {
   "cell_type": "code",
   "execution_count": null,
   "id": "1fa09a76",
   "metadata": {},
   "outputs": [],
   "source": []
  }
 ],
 "metadata": {
  "kernelspec": {
   "display_name": "Python 3 (ipykernel)",
   "language": "python",
   "name": "python3"
  },
  "language_info": {
   "codemirror_mode": {
    "name": "ipython",
    "version": 3
   },
   "file_extension": ".py",
   "mimetype": "text/x-python",
   "name": "python",
   "nbconvert_exporter": "python",
   "pygments_lexer": "ipython3",
   "version": "3.9.12"
  }
 },
 "nbformat": 4,
 "nbformat_minor": 5
}
